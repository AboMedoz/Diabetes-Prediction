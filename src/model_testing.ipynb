{
  "nbformat": 4,
  "nbformat_minor": 0,
  "metadata": {
    "colab": {
      "provenance": []
    },
    "kernelspec": {
      "name": "python3",
      "display_name": "Python 3"
    },
    "language_info": {
      "name": "python"
    }
  },
  "cells": [
    {
      "cell_type": "code",
      "source": [
        "import joblib\n",
        "import pandas as pd"
      ],
      "metadata": {
        "id": "InT3Fa9-gc_Y"
      },
      "execution_count": 17,
      "outputs": []
    },
    {
      "cell_type": "code",
      "source": [
        "model = joblib.load('svm_diabetes_prediction_model.pkl')"
      ],
      "metadata": {
        "id": "ZLhBZZUCguTN"
      },
      "execution_count": 18,
      "outputs": []
    },
    {
      "cell_type": "code",
      "source": [
        "labels = ['Pregnancies', 'Glucose', 'BloodPressure', 'SkinThickness', 'Insulin',\n",
        "          'BMI', 'DiabetesPedigreeFunction', 'Age']\n",
        "outcome_map = {0: 'No Diabetes', 1: 'Diabetes'}"
      ],
      "metadata": {
        "id": "cL1HNpqsg0Un"
      },
      "execution_count": 19,
      "outputs": []
    },
    {
      "cell_type": "code",
      "source": [
        "def make_predictions(features):\n",
        "  df = pd.DataFrame([features], columns=labels)\n",
        "  return outcome_map[model.predict(df)[0]]"
      ],
      "metadata": {
        "id": "pilxWsNJhAau"
      },
      "execution_count": 20,
      "outputs": []
    },
    {
      "cell_type": "code",
      "source": [
        "vals = []\n",
        "for i in labels:\n",
        "  val = input(f\"{i}: \")\n",
        "  vals.append(val)"
      ],
      "metadata": {
        "colab": {
          "base_uri": "https://localhost:8080/"
        },
        "id": "1ilavQvKhQth",
        "outputId": "e050e6f4-f68e-40fe-837b-b59a88ac7108"
      },
      "execution_count": 21,
      "outputs": [
        {
          "name": "stdout",
          "output_type": "stream",
          "text": [
            "Pregnancies: 6\n",
            "Glucose: 148\n",
            "BloodPressure: 72\n",
            "SkinThickness: 35\n",
            "Insulin: 0\n",
            "BMI: 33.6\n",
            "DiabetesPedigreeFunction: 0.627\n",
            "Age: 50\n"
          ]
        }
      ]
    },
    {
      "cell_type": "code",
      "source": [
        "prediction = make_predictions(vals)\n",
        "prediction"
      ],
      "metadata": {
        "colab": {
          "base_uri": "https://localhost:8080/",
          "height": 36
        },
        "id": "T_mYwTW-hZVR",
        "outputId": "47026f29-15e0-4049-d6eb-d7a512592afc"
      },
      "execution_count": 22,
      "outputs": [
        {
          "output_type": "execute_result",
          "data": {
            "text/plain": [
              "'Diabetes'"
            ],
            "application/vnd.google.colaboratory.intrinsic+json": {
              "type": "string"
            }
          },
          "metadata": {},
          "execution_count": 22
        }
      ]
    },
    {
      "cell_type": "code",
      "source": [],
      "metadata": {
        "id": "r4EPM_Bdie4q"
      },
      "execution_count": null,
      "outputs": []
    }
  ]
}